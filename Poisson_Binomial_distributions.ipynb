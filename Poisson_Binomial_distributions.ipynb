{
  "nbformat": 4,
  "nbformat_minor": 0,
  "metadata": {
    "colab": {
      "name": "Poisson-Binomial-distributions.ipynb",
      "version": "0.3.2",
      "provenance": [],
      "collapsed_sections": []
    },
    "kernelspec": {
      "name": "python3",
      "display_name": "Python 3"
    }
  },
  "cells": [
    {
      "cell_type": "markdown",
      "metadata": {
        "id": "Oa30FCO87GJw",
        "colab_type": "text"
      },
      "source": [
        "# PUASONOVA DISTRIBUCIJA\n",
        "\n",
        "Puasonova raspodela se koristi u modelovanju broja realizacija događaja (diskretnog tipa) u datom periodu vremena. Takozvana Puasonova slučajna promenljiva uzima vrednosti j=0,1,2... sa verovatnoćom:\n",
        "\n",
        "   $p_j=P(X=j)=e^{-λ}\\frac{λ^{j}}{j!}$\n",
        "   \n",
        "Matematicko očekivanje ili očekivana vrednost slučajne promenljive X obeležavamo sa E(X), i ono u suštini predstavlja srednju vrednost koja se očekuje ali u pomalo apstraktnom smislu.\n",
        "\n",
        "$E(X)=\\sum_{j=0}^{\\infty} x_jp_j =\\sum_{j=0}^{\\infty}je^{-λ}\\frac{λ^{j}}{j!} =λ$\n",
        "\n",
        "Varijansa je, isto kao i očekivana vrednost jednaka parametru λ:  Var(X)=λ\n",
        "\n",
        "#BINOMNA DISTRIBUCIJA\n",
        "\n",
        "Predstavlja broj realizacija nekog događaja A u *n* nezavisnih opita, pri čemu je verovatnoća realizacije događaja A u pojedinom opitu jednaka P(A)=p . Binomna f-ija verovatnoće data je izrazom:\n",
        "\n",
        "$p_i=P(X=i)=\\binom{n}{i}p^iq^{n-i}$ \n",
        "\n",
        "  Očekivana vrednost binomne promenljive je:\n",
        "  $E(X)=np$ , a njena varijansa $var(X)=E(X^2)-(EX)^2=npq$\n",
        "  \n",
        "  Pokušaćemo da dokažemo vezu ove dve raspodele. Ispostavlja se da je Puasonova raspodela specijalni slučaj binomne raspodele ako je broj uzoraka n veliko , a verovatnoća p mala.\n",
        "  \n",
        "  definišemo $ λ=np$, time smo izjednačili mat. očekivanja dve raspodele.\n",
        "  \n",
        "  $p=\\frac{λ}{n}, q=1-p$\n",
        "  \n",
        "  Sada zamenom u formulu za binomnu verovatnoću i traženjem granične vrednosti kada n teži beskoknačnosti : \n",
        "  \n",
        "  $\\lim_{n\\to\\infty}P(X=k)=\\lim_{n\\to\\infty}\\frac{n!}{k!(n-k)!}\\frac{λ}{n}^k(1-\\frac{λ}{n})^{n-k}$  dobijamo\n",
        "  \n",
        " Izvucemo konstante i malo modifikujemo izraz:   $\\frac{λ}{n}^k\\lim_{n\\to\\infty}\\frac{n!}{k!(n-k)!}(1-\\frac{λ}{n})^{n}(1-\\frac{λ}{n})^{-k}$\n",
        " \n",
        " Rešavanjem ovog limesa dobijamo:    $P(λ,k)=e^{-λ}\\frac{λ^{k}}{k!}$, što je jednako izrazu za verovatnoću Puasonove raspodele.\n",
        "\n",
        "Ovaj matematički dokaz ćemo potvrditi korišćenjem python skripte."
      ]
    },
    {
      "cell_type": "code",
      "metadata": {
        "id": "ZzjgIcJ36OZi",
        "colab_type": "code",
        "colab": {}
      },
      "source": [
        "def factorial(n):\n",
        "    num = 1\n",
        "    while n >= 1:\n",
        "        num = num * n\n",
        "        n = n - 1\n",
        "    return num"
      ],
      "execution_count": 0,
      "outputs": []
    },
    {
      "cell_type": "code",
      "metadata": {
        "id": "kNSHczKmaMIs",
        "colab_type": "code",
        "colab": {
          "base_uri": "https://localhost:8080/",
          "height": 84
        },
        "outputId": "a2e950d8-16e2-43b0-9a5a-56d927029041"
      },
      "source": [
        "import numpy as np\n",
        "\n",
        "# seed random number generator\n",
        "np.random.seed(42)\n",
        "\n",
        "# inbuilt f-ja koja daje 10000 tacaka puasonove raspodele\n",
        "samples_poisson = np.random.poisson(10, size=10000)\n",
        "\n",
        "# ispis sr.vr i standardne devijacije\n",
        "print('Poisson:   ', np.mean(samples_poisson),\n",
        "      np.std(samples_poisson))\n",
        "\n",
        "# pravim parove n i p tako da n*p = 10\n",
        "n = [20, 100, 1000]\n",
        "p = [0.5, 0.1, 0.01]\n",
        "\n",
        "# f-ja daje binomnu raspodelu za parove niza n i p\n",
        "for i in range(3):\n",
        "    samples_binomial = np.random.binomial(n[i], p[i], 10000)\n",
        "\n",
        "    # rezultat\n",
        "    print('n =', n[i], 'Binom:', np.mean(samples_binomial),\n",
        "          np.std(samples_binomial))"
      ],
      "execution_count": 7,
      "outputs": [
        {
          "output_type": "stream",
          "text": [
            "Poisson:    10.0186 3.144813832327758\n",
            "n = 20 Binom: 9.9637 2.2163443572694206\n",
            "n = 100 Binom: 9.9947 3.0135812433050484\n",
            "n = 1000 Binom: 9.9985 3.139378561116833\n"
          ],
          "name": "stdout"
        }
      ]
    }
  ]
}